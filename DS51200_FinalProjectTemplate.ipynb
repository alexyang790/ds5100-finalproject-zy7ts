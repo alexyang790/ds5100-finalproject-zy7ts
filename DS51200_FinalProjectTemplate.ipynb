{
 "cells": [
  {
   "cell_type": "markdown",
   "id": "45762487-d33f-486d-8e38-2cdea04e3528",
   "metadata": {},
   "source": [
    "# Final Project Report\n",
    "\n",
    "* Class: DS 5100\n",
    "* Student Name: Alex Yang\n",
    "* Student Net ID: zy7ts\n",
    "* This URL: [Link](https://github.com/alexyang790/ds5100-finalproject-zy7ts/blob/main/ds5100_final_project_files/DS51200_FinalProjectTemplate.ipynb)"
   ]
  },
  {
   "cell_type": "markdown",
   "id": "acf756c1-ecaa-41dc-b6ca-d566eb94560b",
   "metadata": {},
   "source": [
    "# Instructions\n",
    "\n",
    "Follow the instructions in the Final Project isntructions notebook and put evidence of your work in this notebook.\n",
    "\n",
    "Total points for each subsection under **Deliverables** and **Scenarios** are given in parentheses.\n",
    "\n",
    "Breakdowns of points within subsections are specified within subsection instructions as bulleted lists.\n",
    "\n",
    "This project is worth **50 points**."
   ]
  },
  {
   "cell_type": "markdown",
   "id": "89dc7a32-f682-4402-8c1e-b6ccdb3e0e39",
   "metadata": {},
   "source": [
    "# Deliverables"
   ]
  },
  {
   "cell_type": "markdown",
   "id": "d32cb273-9a40-4909-a7ce-51f6e4958d3c",
   "metadata": {},
   "source": [
    "## The Monte Carlo Module (10)\n",
    "\n",
    "- URL included, appropriately named (1).\n",
    "- Includes all three specified classes (3).\n",
    "- Includes at least all 12 specified methods (6; .5 each)."
   ]
  },
  {
   "cell_type": "markdown",
   "id": "f5f3b070-de9e-4de9-bfae-8974d184aa28",
   "metadata": {},
   "source": [
    "Put the URL to your GitHub repo here.\n",
    "\n",
    "Repo URL: https://github.com/alexyang790/ds5100-finalproject-zy7ts"
   ]
  },
  {
   "cell_type": "markdown",
   "id": "347b146f",
   "metadata": {},
   "source": [
    "```python\n",
    "import pandas as pd\n",
    "import numpy as np\n",
    "class Die():\n",
    "    \"\"\"\n",
    "    The Die() class represents a 'die' that can be rolled and may have different weights on each face\n",
    "\n",
    "    Attributes:\n",
    "        faces (np.array): A NumPy array representing the faces of the die.\n",
    "        __weights (np.array): An array representing the weights assigned to each face.\n",
    "        __die (pd.DataFrame): A private DataFrame storing faces and their corresponding weights.\n",
    "\n",
    "    Methods:\n",
    "        __init__(self, faces: np.ndarray): initilizes the die object with provided faces array  \n",
    "        changeweight(self, face, new_weight): changes the weight of a specified single face of the die to a provided new weight\n",
    "        rolldie(self, times=1): rolles the die with provided times (defaults to 1) and returns a list of outcomes (faces)\n",
    "        printdie(self): returns the die dataframe\n",
    "    \"\"\"\n",
    "    def __init__(self, faces: np.ndarray):\n",
    "        \"\"\"\n",
    "        Initializes a new Die instance with the provided faces array. \n",
    "\n",
    "        Inputs:\n",
    "            faces (np.array): A NumPy array representing the faces of the die.\n",
    "\n",
    "        Raises:\n",
    "            TypeError: If faces is not a NumPy array or if it contains data types other than integers or strings.\n",
    "            ValueError: If the faces array contains non-distinct values.\n",
    "        \"\"\"\n",
    "        self.faces = faces\n",
    "        #checking if faces is a numpy array\n",
    "        if not isinstance(faces, np.ndarray):\n",
    "            raise TypeError(\"faces must be a numpy array\")\n",
    "\n",
    "        #checking array's data type\n",
    "        if not (faces.dtype == np.int64) or (faces.dtype == np.str_):\n",
    "            raise TypeError(\"faces must be a numpy array of integers or strings\")\n",
    "        \n",
    "        #checking if array's values are distinct\n",
    "        if len(np.unique(faces)) != len(faces):\n",
    "            raise ValueError(\"faces must be distinct values\")\n",
    "        \n",
    "        #internally initializes the weights (private) to 1.0 for each face\n",
    "        self.__weights = np.ones(len(faces))\n",
    "\n",
    "        #saving both faces and weights in a private data frame with faces in the index\n",
    "        self.__die = pd.DataFrame(\n",
    "            {'faces': self.faces,\n",
    "            'weight': self.__weights}\n",
    "        )\n",
    "\n",
    "    def changeweight(self, face, new_weight):\n",
    "        \"\"\"\n",
    "        Change the weight of a single side of the die.\n",
    "\n",
    "        Attributes:\n",
    "            face (int or str): The face value of the side to be changed.\n",
    "            new_weight (int or float): The new weight for the side.\n",
    "\n",
    "        Raises:\n",
    "            IndexError: If the provided face is not in the die array.\n",
    "            TypeError: If the provided weight is not numeric or not castable as numeric.\n",
    "\n",
    "        Returns:\n",
    "            None\n",
    "        \"\"\"\n",
    "        #checking if face is valid i.e. if it is in the die array\n",
    "        if face not in self.__die['faces'].values:\n",
    "            raise IndexError('provided face not in die')\n",
    "        \n",
    "        #checking if new_weight is valid\n",
    "        if not isinstance(new_weight, (int, float)):\n",
    "            raise TypeError('provided weight is not numeric or not castable as numeric')\n",
    "\n",
    "        #changing the weight\n",
    "        self.__die.loc[self.__die['faces'] == face, 'weight'] = new_weight\n",
    "\n",
    "    def rolldie(self, timesrolled = 1):\n",
    "        \"\"\"\n",
    "        A function that simulates rolling a die multiple times and returns the outcomes.\n",
    "\n",
    "        Attributes:\n",
    "            self: the object instance\n",
    "            timesrolled (int): the number of times to roll the die, defaults to 1\n",
    "\n",
    "        Returns:\n",
    "            outcomes: list of outcomes from rolling the die\n",
    "        \"\"\"\n",
    "        #checking if timesrolled is an integer\n",
    "        if type(timesrolled) != int:\n",
    "            raise TypeError('timesrolled must be an integer')   \n",
    "        \n",
    "        #rolling the dice and returning outcome possibility is the weight divided by the sum of the weights\n",
    "        outcomes = np.random.choice(\n",
    "            self.__die['faces'], \n",
    "            timesrolled, \n",
    "            replace = False, \n",
    "            p = self.__die['weight'] /  self.__die['weight'].sum())\n",
    "        return outcomes\n",
    "    \n",
    "    def printdie(self):\n",
    "        \"\"\"\n",
    "        Returns a copy of the private die data frame\n",
    "        \"\"\"\n",
    "        return self.__die\n",
    "\n",
    "\n",
    "class Game():\n",
    "    \"\"\"\n",
    "    Represents a game where a list of similar dice can be rolled a specified number of times. Their weight can be different\n",
    "    \n",
    "    Attributes:\n",
    "        die_list (list): A list of Die objects representing the dice used in the game.\n",
    "        __results (pd.DataFrame): A placeholder for the results of the game.\n",
    "\n",
    "    Methods:\n",
    "        __init__(self, die_list): Initializes a new instance of the Game class.\n",
    "        \n",
    "        play(self, rolled_times): Plays the die in the list a specified number of times and stores the results in a wide data frame.\n",
    "        \n",
    "        show_results(self, method=\"wide\"): Displays the results of the most recent play in the specified format ('wide' or 'narrow').\n",
    "    \"\"\"\n",
    "    def __init__(self, die_list):\n",
    "        \"\"\"\n",
    "        Initializes a new instance of the Game class.\n",
    "\n",
    "        Inputs:\n",
    "            die_list (list): a list of already instantiated similar dice\n",
    "\n",
    "        Attributes:\n",
    "            die_list (list): The list of Die objects representing the dice used in the game.\n",
    "            play_results (None): A placeholder for the results of the game.\n",
    "        \"\"\"\n",
    "        self.die_list = die_list\n",
    "        self.__results = None #placeholder for results of the game\n",
    "        \n",
    "    def play(self, rolled_times):\n",
    "        \"\"\"\n",
    "        Play the die in the list a specified number of times and store the results in a wide data frame.\n",
    "\n",
    "        Parameters:\n",
    "            rolled_times (int): The number of times to roll each die in the list.\n",
    "       \n",
    "        Raises:\n",
    "            TypeError: If the rolled_times parameter is not an integer.\n",
    "        \"\"\"\n",
    "        #checking if rolled_times is an integer\n",
    "        if not isinstance(rolled_times, int): raise TypeError('rolled_times must be an integer')\n",
    "        \n",
    "        #play the die in list and store the results in a data frame\n",
    "        reults = {i: die.rolldie(rolled_times) for i, die in enumerate(self.die_list)}\n",
    "        self.__results = pd.DataFrame(reults)\n",
    "\n",
    "    def show_results(self, method = \"wide\"):\n",
    "        \"\"\"\n",
    "        A function to display the results of the most recent play in the specified format (wide or narrow, defaults to wide).\n",
    "\n",
    "        Parameters:\n",
    "            method (str): The format to return the results in ('wide' or 'narrow'). Defaults to 'wide'.\n",
    "\n",
    "        Returns:\n",
    "            pd.DataFrame: The DataFrame containing the results of the most recent play.\n",
    "\n",
    "        Raises:\n",
    "            ValueError: If the provided method is not 'wide' or 'narrow'.\n",
    "        \"\"\"\n",
    "        if method == \"wide\":\n",
    "            return self.__results\n",
    "        elif method == 'narrow':\n",
    "                narrow_results = self.__results.reset_index().melt(id_vars=['index'], var_name='Die', value_name='Outcome')\n",
    "                narrow_results.set_index(['index', 'Die'], inplace=True)\n",
    "                narrow_results.index.names = ['Roll Number', 'Die Number']\n",
    "                return narrow_results\n",
    "        else:\n",
    "            raise ValueError(\"Invalid method specified. Choose 'wide' or 'narrow'.\")\n",
    "    \n",
    "class Analyzer():\n",
    "    \"\"\"\n",
    "    Represents an analyzer that computes various descriptive statistical properties about the results of a single game.\n",
    "\n",
    "    Attributes:\n",
    "        game (Game): An instance of the Game class representing the game being analyzed.\n",
    "        __results (pd.DataFrame): A DataFrame containing the results of the game.\n",
    "\n",
    "    Methods:\n",
    "        __init__(self, game): Initializes a new instance of the Analyzer class.\n",
    "        \n",
    "        jackpot(self): Calculates the number of jackpots in the game.\n",
    "        \n",
    "        face_counts(self): Calculates the count of each face rolled in each roll of the game.\n",
    "        \n",
    "        combo_counts(self): Calculates the distinct combinations of faces rolled in each roll of the game.\n",
    "        \n",
    "        permutation_counts(self): Calculates the distinct permutations of faces rolled in each roll of the game.\n",
    "    \"\"\"\n",
    "    def __init__(self, game):\n",
    "        \"\"\"\n",
    "        Initializes a new instance of the Analyzer class.\n",
    "\n",
    "        Parameters:\n",
    "            game (Game): An instance of the Game class.\n",
    "\n",
    "        Raises:\n",
    "            ValueError: If the game parameter is not an instance of the Game class.\n",
    "\n",
    "        Returns:\n",
    "            None\n",
    "        \"\"\"\n",
    "        if not isinstance(game, Game):\n",
    "            raise ValueError('game must be an instance of Game')\n",
    "        self.game = game\n",
    "        self.__results = self.game.show_results(method = 'wide')\n",
    "\n",
    "    def jackpot(self):\n",
    "        \"\"\"\n",
    "        Calculates the number of jackpots in the game.\n",
    "\n",
    "        Returns:\n",
    "            count (int): The number of jackpots.\n",
    "        \"\"\"\n",
    "        count = (self.__results.nunique(axis=1) == 1).sum()\n",
    "        return count\n",
    "    \n",
    "    def face_counts(self):\n",
    "        \"\"\"\n",
    "        Calculates the count of each face rolled in each roll of the game.\n",
    "\n",
    "        Returns:\n",
    "            counts_df (pandas.DataFrame): A DataFrame where the index represents the roll number and the columns represent the face values. The values in the DataFrame are the count of each face rolled in each roll.\n",
    "        \"\"\"\n",
    "        #save the result df to a wide table\n",
    "        wide_format = self.__results.melt(var_name='Die', value_name='Face', ignore_index=False)\n",
    "        #make a crosstab from the wide table\n",
    "        counts_df = pd.crosstab(wide_format.index, wide_format['Face'])\n",
    "        return counts_df\n",
    "\n",
    "    def combo_counts(self):\n",
    "        \"\"\"\n",
    "        Calculates the distinct combinations of faces rolled in each roll of the game.\n",
    "\n",
    "        Returns:\n",
    "            combos_counts (pandas.DataFrame): A DataFrame representing the distinct combinations of faces rolled along with their counts.\n",
    "        \"\"\"\n",
    "        combos = self.__results.apply(lambda x: tuple(x.sort_values().values), axis=1)\n",
    "        combos_counts = combos.value_counts().reset_index().rename(columns={0: 'count'})\n",
    "        combos_counts = combos_counts.set_index(list(combos_counts.columns[:-1]))\n",
    "        return combos_counts\n",
    "\n",
    "    def permutation_counts(self):\n",
    "        \"\"\"\n",
    "        Calculates the distinct permutations of faces rolled in each roll of the game.\n",
    "\n",
    "        Returns:\n",
    "            perm_counts (pandas.DataFrame): A DataFrame representing the distinct permutations of faces rolled along with their counts.\n",
    "        \"\"\"\n",
    "        perms = self.results.apply(tuple, axis=1)\n",
    "        perm_counts = perms.value_counts().reset_index().rename(columns={0: 'count'})\n",
    "        perm_counts = perm_counts.set_index(list(perm_counts.columns[:-1]))\n",
    "        return perm_counts\n",
    "```"
   ]
  },
  {
   "cell_type": "markdown",
   "id": "6377727a-8f0a-491e-9f1c-d9dc225edd35",
   "metadata": {},
   "source": [
    "## Unitest Module (2)\n",
    "\n",
    "Paste a copy of your test module below.\n",
    "\n",
    "NOTE: Paste as text, not as code. Use triple backticks to wrap your code blocks.\n",
    "\n",
    "- All methods have at least one test method (1).\n",
    "- Each method employs one of Unittest's Assert methods (1)."
   ]
  },
  {
   "cell_type": "markdown",
   "id": "f13dd700",
   "metadata": {},
   "source": []
  },
  {
   "cell_type": "markdown",
   "id": "3e058d03-29bc-408f-b36d-0605b4f4b8c0",
   "metadata": {
    "tags": []
   },
   "source": [
    "## Unittest Results (3)\n",
    "\n",
    "Put a copy of the results of running your tests from the command line here.\n",
    "\n",
    "Again, paste as text using triple backticks.\n",
    "\n",
    "- All 12 specified methods return OK (3; .25 each)."
   ]
  },
  {
   "cell_type": "raw",
   "id": "54691fd0-836c-43c7-adc9-4a09d8aa9ab2",
   "metadata": {
    "tags": []
   },
   "source": [
    "# A text block with the output of a successful test."
   ]
  },
  {
   "cell_type": "markdown",
   "id": "d9ffe8c5-eb2f-4ad1-af76-a46550e4c7ac",
   "metadata": {},
   "source": [
    "## Import (1)\n",
    "\n",
    "Import your module here. This import should refer to the code in your package directory.\n",
    "\n",
    "- Module successuflly imported (1)."
   ]
  },
  {
   "cell_type": "code",
   "execution_count": 7,
   "id": "a05dffb3-e6d6-4f78-9df4-5abd0cf74ca9",
   "metadata": {
    "tags": []
   },
   "outputs": [],
   "source": [
    "import montecarlo.montecarlo as mt"
   ]
  },
  {
   "cell_type": "markdown",
   "id": "f30c4842-65b1-4556-98b6-3fe1a07e1371",
   "metadata": {},
   "source": [
    "## Help Docs (4)\n",
    "\n",
    "Show your docstring documentation by applying `help()` to your imported module.\n",
    "\n",
    "- All methods have a docstring (3; .25 each).\n",
    "- All classes have a docstring (1; .33 each)."
   ]
  },
  {
   "cell_type": "code",
   "execution_count": 2,
   "id": "5a6df794",
   "metadata": {},
   "outputs": [
    {
     "name": "stdout",
     "output_type": "stream",
     "text": [
      "Help on module montecarlo.montecarlo in montecarlo:\n",
      "\n",
      "NAME\n",
      "    montecarlo.montecarlo\n",
      "\n",
      "CLASSES\n",
      "    builtins.object\n",
      "        Analyzer\n",
      "        Die\n",
      "        Game\n",
      "    \n",
      "    class Analyzer(builtins.object)\n",
      "     |  Analyzer(game)\n",
      "     |  \n",
      "     |  Represents an analyzer that computes various descriptive statistical properties about the results of a single game.\n",
      "     |  \n",
      "     |  Attributes:\n",
      "     |      game (Game): An instance of the Game class representing the game being analyzed.\n",
      "     |      __results (pd.DataFrame): A DataFrame containing the results of the game.\n",
      "     |  \n",
      "     |  Methods:\n",
      "     |      __init__(self, game): Initializes a new instance of the Analyzer class.\n",
      "     |      \n",
      "     |      jackpot(self): Calculates the number of jackpots in the game.\n",
      "     |      \n",
      "     |      face_counts(self): Calculates the count of each face rolled in each roll of the game.\n",
      "     |      \n",
      "     |      combo_counts(self): Calculates the distinct combinations of faces rolled in each roll of the game.\n",
      "     |      \n",
      "     |      permutation_counts(self): Calculates the distinct permutations of faces rolled in each roll of the game.\n",
      "     |  \n",
      "     |  Methods defined here:\n",
      "     |  \n",
      "     |  __init__(self, game)\n",
      "     |      Initializes a new instance of the Analyzer class.\n",
      "     |      \n",
      "     |      Parameters:\n",
      "     |          game (Game): An instance of the Game class.\n",
      "     |      \n",
      "     |      Raises:\n",
      "     |          ValueError: If the game parameter is not an instance of the Game class.\n",
      "     |      \n",
      "     |      Returns:\n",
      "     |          None\n",
      "     |  \n",
      "     |  combo_counts(self)\n",
      "     |      Calculates the distinct combinations of faces rolled in each roll of the game.\n",
      "     |      \n",
      "     |      Returns:\n",
      "     |          combos_counts (pandas.DataFrame): A DataFrame representing the distinct combinations of faces rolled along with their counts.\n",
      "     |  \n",
      "     |  face_counts(self)\n",
      "     |      Calculates the count of each face rolled in each roll of the game.\n",
      "     |      \n",
      "     |      Returns:\n",
      "     |          counts_df (pandas.DataFrame): A DataFrame where the index represents the roll number and the columns represent the face values. The values in the DataFrame are the count of each face rolled in each roll.\n",
      "     |  \n",
      "     |  jackpot(self)\n",
      "     |      Calculates the number of jackpots in the game.\n",
      "     |      \n",
      "     |      Returns:\n",
      "     |          count (int): The number of jackpots.\n",
      "     |  \n",
      "     |  permutation_counts(self)\n",
      "     |      Calculates the distinct permutations of faces rolled in each roll of the game.\n",
      "     |      \n",
      "     |      Returns:\n",
      "     |          perm_counts (pandas.DataFrame): A DataFrame representing the distinct permutations of faces rolled along with their counts.\n",
      "     |  \n",
      "     |  ----------------------------------------------------------------------\n",
      "     |  Data descriptors defined here:\n",
      "     |  \n",
      "     |  __dict__\n",
      "     |      dictionary for instance variables (if defined)\n",
      "     |  \n",
      "     |  __weakref__\n",
      "     |      list of weak references to the object (if defined)\n",
      "    \n",
      "    class Die(builtins.object)\n",
      "     |  Die(faces: numpy.ndarray)\n",
      "     |  \n",
      "     |  The Die() class represents a 'die' that can be rolled and may have different weights on each face\n",
      "     |  \n",
      "     |  Attributes:\n",
      "     |      faces (np.array): A NumPy array representing the faces of the die.\n",
      "     |      __weights (np.array): An array representing the weights assigned to each face.\n",
      "     |      __die (pd.DataFrame): A private DataFrame storing faces and their corresponding weights.\n",
      "     |  \n",
      "     |  Methods:\n",
      "     |      __init__(self, faces: np.ndarray): initilizes the die object with provided faces array  \n",
      "     |      changeweight(self, face, new_weight): changes the weight of a specified single face of the die to a provided new weight\n",
      "     |      rolldie(self, times=1): rolles the die with provided times (defaults to 1) and returns a list of outcomes (faces)\n",
      "     |      printdie(self): returns the die dataframe\n",
      "     |  \n",
      "     |  Methods defined here:\n",
      "     |  \n",
      "     |  __init__(self, faces: numpy.ndarray)\n",
      "     |      Initializes a new Die instance with the provided faces array. \n",
      "     |      \n",
      "     |      Inputs:\n",
      "     |          faces (np.array): A NumPy array representing the faces of the die.\n",
      "     |      \n",
      "     |      Raises:\n",
      "     |          TypeError: If faces is not a NumPy array or if it contains data types other than integers or strings.\n",
      "     |          ValueError: If the faces array contains non-distinct values.\n",
      "     |  \n",
      "     |  changeweight(self, face, new_weight)\n",
      "     |      Change the weight of a single side of the die.\n",
      "     |      \n",
      "     |      Attributes:\n",
      "     |          face (int or str): The face value of the side to be changed.\n",
      "     |          new_weight (int or float): The new weight for the side.\n",
      "     |      \n",
      "     |      Raises:\n",
      "     |          IndexError: If the provided face is not in the die array.\n",
      "     |          TypeError: If the provided weight is not numeric or not castable as numeric.\n",
      "     |      \n",
      "     |      Returns:\n",
      "     |          None\n",
      "     |  \n",
      "     |  printdie(self)\n",
      "     |      Returns a copy of the private die data frame\n",
      "     |  \n",
      "     |  rolldie(self, timesrolled=1)\n",
      "     |      A function that simulates rolling a die multiple times and returns the outcomes.\n",
      "     |      \n",
      "     |      Attributes:\n",
      "     |          self: the object instance\n",
      "     |          timesrolled (int): the number of times to roll the die, defaults to 1\n",
      "     |      \n",
      "     |      Returns:\n",
      "     |          outcomes: list of outcomes from rolling the die\n",
      "     |  \n",
      "     |  ----------------------------------------------------------------------\n",
      "     |  Data descriptors defined here:\n",
      "     |  \n",
      "     |  __dict__\n",
      "     |      dictionary for instance variables (if defined)\n",
      "     |  \n",
      "     |  __weakref__\n",
      "     |      list of weak references to the object (if defined)\n",
      "    \n",
      "    class Game(builtins.object)\n",
      "     |  Game(die_list)\n",
      "     |  \n",
      "     |  Represents a game where a list of similar dice can be rolled a specified number of times. Their weight can be different\n",
      "     |  \n",
      "     |  Attributes:\n",
      "     |      die_list (list): A list of Die objects representing the dice used in the game.\n",
      "     |      __results (pd.DataFrame): A placeholder for the results of the game.\n",
      "     |  \n",
      "     |  Methods:\n",
      "     |      __init__(self, die_list): Initializes a new instance of the Game class.\n",
      "     |      \n",
      "     |      play(self, rolled_times): Plays the die in the list a specified number of times and stores the results in a wide data frame.\n",
      "     |      \n",
      "     |      show_results(self, method=\"wide\"): Displays the results of the most recent play in the specified format ('wide' or 'narrow').\n",
      "     |  \n",
      "     |  Methods defined here:\n",
      "     |  \n",
      "     |  __init__(self, die_list)\n",
      "     |      Initializes a new instance of the Game class.\n",
      "     |      \n",
      "     |      Inputs:\n",
      "     |          die_list (list): a list of already instantiated similar dice\n",
      "     |      \n",
      "     |      Attributes:\n",
      "     |          die_list (list): The list of Die objects representing the dice used in the game.\n",
      "     |          play_results (None): A placeholder for the results of the game.\n",
      "     |  \n",
      "     |  play(self, rolled_times)\n",
      "     |      Play the die in the list a specified number of times and store the results in a wide data frame.\n",
      "     |      \n",
      "     |      Parameters:\n",
      "     |          rolled_times (int): The number of times to roll each die in the list.\n",
      "     |      \n",
      "     |      Raises:\n",
      "     |          TypeError: If the rolled_times parameter is not an integer.\n",
      "     |  \n",
      "     |  show_results(self, method='wide')\n",
      "     |      A function to display the results of the most recent play in the specified format (wide or narrow, defaults to wide).\n",
      "     |      \n",
      "     |      Parameters:\n",
      "     |          method (str): The format to return the results in ('wide' or 'narrow'). Defaults to 'wide'.\n",
      "     |      \n",
      "     |      Returns:\n",
      "     |          pd.DataFrame: The DataFrame containing the results of the most recent play.\n",
      "     |      \n",
      "     |      Raises:\n",
      "     |          ValueError: If the provided method is not 'wide' or 'narrow'.\n",
      "     |  \n",
      "     |  ----------------------------------------------------------------------\n",
      "     |  Data descriptors defined here:\n",
      "     |  \n",
      "     |  __dict__\n",
      "     |      dictionary for instance variables (if defined)\n",
      "     |  \n",
      "     |  __weakref__\n",
      "     |      list of weak references to the object (if defined)\n",
      "\n",
      "FILE\n",
      "    /Users/alexyang/Git/DS5100-all/ds5100-finalproject-zy7ts/montecarlo/montecarlo.py\n",
      "\n",
      "\n"
     ]
    }
   ],
   "source": [
    "help(mt)"
   ]
  },
  {
   "cell_type": "markdown",
   "id": "a9defa84-b395-4966-bd1c-5c6c2bb7ed68",
   "metadata": {},
   "source": [
    "## `README.md` File (3)\n",
    "\n",
    "Provide link to the README.md file of your project's repo.\n",
    "\n",
    "- Metadata section or info present (1).\n",
    "- Synopsis section showing how each class is called (1). (All must be included.)\n",
    "- API section listing all classes and methods (1). (All must be included.)"
   ]
  },
  {
   "cell_type": "markdown",
   "id": "ee090b33-d593-48a0-bf35-e739cea0942c",
   "metadata": {},
   "source": [
    "URL:"
   ]
  },
  {
   "cell_type": "markdown",
   "id": "108604c8-8827-42ef-ab59-6b25428fc0ca",
   "metadata": {},
   "source": [
    "## Successful installation (2)\n",
    "\n",
    "Put a screenshot or paste a copy of a terminal session where you successfully install your module with pip.\n",
    "\n",
    "If pasting text, use a preformatted text block to show the results.\n",
    "\n",
    "- Installed with `pip` (1).\n",
    "- Successfully installed message appears (1)."
   ]
  },
  {
   "cell_type": "code",
   "execution_count": 3,
   "id": "1278db6a-aa53-4e5c-a749-93a87ab239e0",
   "metadata": {},
   "outputs": [
    {
     "name": "stdout",
     "output_type": "stream",
     "text": [
      "Processing /Users/alexyang/Git/DS5100-all/ds5100-finalproject-zy7ts\n",
      "  Preparing metadata (setup.py) ... \u001b[?25ldone\n",
      "\u001b[?25hBuilding wheels for collected packages: montecarlo\n",
      "  Building wheel for montecarlo (setup.py) ... \u001b[?25ldone\n",
      "\u001b[?25h  Created wheel for montecarlo: filename=montecarlo-0.1-py3-none-any.whl size=5643 sha256=2e8ba0729a8401b21d0158563dd9ebc16a66062e8f77329c779c48de722760c1\n",
      "  Stored in directory: /Users/alexyang/Library/Caches/pip/wheels/b9/33/f0/75544505c55c3f1ac08c9285c049bef3a2a6c208c43322dee1\n",
      "Successfully built montecarlo\n",
      "Installing collected packages: montecarlo\n",
      "Successfully installed montecarlo-0.1\n",
      "Note: you may need to restart the kernel to use updated packages.\n"
     ]
    }
   ],
   "source": [
    "pip install ."
   ]
  },
  {
   "cell_type": "markdown",
   "id": "7c44695d-d1b3-4edf-9f94-e64d7446f199",
   "metadata": {},
   "source": [
    "# Scenarios\n",
    "\n",
    "Use code blocks to perform the tasks for each scenario.\n",
    "\n",
    "Be sure the outputs are visible before submitting."
   ]
  },
  {
   "cell_type": "markdown",
   "id": "e2479eae-6fc9-44cd-b8d7-9b22cb501f2a",
   "metadata": {
    "jp-MarkdownHeadingCollapsed": true,
    "tags": []
   },
   "source": [
    "## Scenario 1: A 2-headed Coin (9)\n",
    "\n",
    "Task 1. Create a fair coin (with faces $H$ and $T$) and one unfair coin in which one of the faces has a weight of $5$ and the others $1$.\n",
    "\n",
    "- Fair coin created (1).\n",
    "- Unfair coin created with weight as specified (1)."
   ]
  },
  {
   "cell_type": "code",
   "execution_count": 1,
   "id": "55ce498e-c75f-4425-9e3e-b635bd6cd9e1",
   "metadata": {},
   "outputs": [],
   "source": [
    "import numpy as np\n",
    "import montecarlo.montecarlo as mt\n",
    "#create np array for the faces\n",
    "faces = np.array(['H', 'T'])\n",
    "\n",
    "#creating the fair coin\n",
    "fair_coin = mt.Die(faces)\n",
    "\n",
    "#creating the unfair coin and changing the weights to H:5 and T:1\n",
    "unfair_coin = mt.Die(faces)\n",
    "unfair_coin.changeweight('H', 5)\n",
    "unfair_coin.changeweight('T', 1)"
   ]
  },
  {
   "cell_type": "markdown",
   "id": "02b272ab-99da-4b6e-ac2a-555b73e09c07",
   "metadata": {},
   "source": [
    "Task 2. Play a game of $1000$ flips with two fair dice.\n",
    "\n",
    "- Play method called correclty and without error (1)."
   ]
  },
  {
   "cell_type": "code",
   "execution_count": 4,
   "id": "65c92601-d32d-4326-b215-74953aee27f2",
   "metadata": {},
   "outputs": [],
   "source": [
    "#create a die list with two fair coins\n",
    "die_list = [fair_coin, fair_coin]\n",
    "\n",
    "#initialize the game and play 1000 flips\n",
    "game_fair = mt.Game(die_list)\n",
    "game_fair.play(1000)"
   ]
  },
  {
   "cell_type": "markdown",
   "id": "7d9c3dc8-22c1-4cae-81fb-d68d774a05d1",
   "metadata": {},
   "source": [
    "Task 3. Play another game (using a new Game object) of $1000$ flips, this time using two unfair dice and one fair die. For the second unfair die, you can use the same die object twice in the list of dice you pass to the Game object.\n",
    "\n",
    "- New game object created (1).\n",
    "- Play method called correclty and without error (1)."
   ]
  },
  {
   "cell_type": "code",
   "execution_count": 5,
   "id": "d4098bed-1eb2-4084-8d5e-9fda07c3be43",
   "metadata": {},
   "outputs": [],
   "source": [
    "#create a die list with two unfair coins\n",
    "die_list = [unfair_coin, unfair_coin]\n",
    "\n",
    "#initialize the game and play 1000 flips\n",
    "game_unfair = mt.Game(die_list)\n",
    "game_unfair.play(1000)"
   ]
  },
  {
   "cell_type": "markdown",
   "id": "f690ebfc-fe71-4eb2-976d-7ac80ca6c23f",
   "metadata": {},
   "source": [
    "Task 4. For each game, use an Analyzer object to determine the raw frequency of jackpots — i.e. getting either all $H$s or all $T$s.\n",
    "\n",
    "- Analyzer objecs instantiated for both games (1).\n",
    "- Raw frequencies reported for both (1)."
   ]
  },
  {
   "cell_type": "code",
   "execution_count": 6,
   "id": "b26b8b7e-3be7-4476-a9a4-37d97536729e",
   "metadata": {},
   "outputs": [
    {
     "name": "stdout",
     "output_type": "stream",
     "text": [
      "493\n",
      "733\n"
     ]
    }
   ],
   "source": [
    "#initilizing the analyzer object for both games\n",
    "analyzer_fair = mt.Analyzer(game_fair)\n",
    "analyzer_unfair = mt.Analyzer(game_unfair)\n",
    "\n",
    "#printing the number of jackpots for both games\n",
    "print(analyzer_fair.jackpot())\n",
    "print(analyzer_unfair.jackpot())"
   ]
  },
  {
   "cell_type": "markdown",
   "id": "b73d233c-445e-40cd-8858-0c5e1f097105",
   "metadata": {},
   "source": [
    "Task 5. For each analyzer, compute relative frequency as the number of jackpots over the total number of rolls.\n",
    "\n",
    "- Both relative frequencies computed (1)."
   ]
  },
  {
   "cell_type": "code",
   "execution_count": null,
   "id": "9a96b31b-1b9d-496e-be3e-4bf83c45ec3a",
   "metadata": {},
   "outputs": [],
   "source": []
  },
  {
   "cell_type": "markdown",
   "id": "a6e1e734-7f5c-4721-8ba4-2f3a424cf984",
   "metadata": {},
   "source": [
    "Task 6. Show your results, comparing the two relative frequencies, in a simple bar chart.\n",
    "\n",
    "- Bar chart plotted and correct (1)."
   ]
  },
  {
   "cell_type": "code",
   "execution_count": null,
   "id": "473fa67c-aa53-4aa3-a0b7-e8772b3f6ed3",
   "metadata": {},
   "outputs": [],
   "source": []
  },
  {
   "cell_type": "markdown",
   "id": "725cfa5b-e4b7-47c9-86aa-8d9e1fe6c8c7",
   "metadata": {},
   "source": [
    "## Scenario 2: A 6-sided Die (9)\n",
    "\n",
    "Task 1. Create three dice, each with six sides having the faces 1 through 6.\n",
    "\n",
    "- Three die objects created (1)."
   ]
  },
  {
   "cell_type": "code",
   "execution_count": null,
   "id": "6a8bc611-325a-4e05-88d5-980e0a2cf7c5",
   "metadata": {},
   "outputs": [],
   "source": []
  },
  {
   "cell_type": "markdown",
   "id": "2ed3ad26-fbe9-43bd-9ad7-f683a4191d12",
   "metadata": {},
   "source": [
    "Task 2. Convert one of the dice to an unfair one by weighting the face $6$ five times more than the other weights (i.e. it has weight of 5 and the others a weight of 1 each).\n",
    "\n",
    "- Unfair die created with proper call to weight change method (1)."
   ]
  },
  {
   "cell_type": "code",
   "execution_count": null,
   "id": "e33dd18f-7f90-456d-a680-61c08a328e21",
   "metadata": {},
   "outputs": [],
   "source": []
  },
  {
   "cell_type": "markdown",
   "id": "7f6c062a-4c5b-45b9-96b8-76a0354c7e47",
   "metadata": {},
   "source": [
    "Task 3. Convert another of the dice to be unfair by weighting the face $1$ five times more than the others.\n",
    "\n",
    "- Unfair die created with proper call to weight change method (1)."
   ]
  },
  {
   "cell_type": "code",
   "execution_count": null,
   "id": "01133a4e-6b06-4246-8d90-8e6d6995be51",
   "metadata": {},
   "outputs": [],
   "source": []
  },
  {
   "cell_type": "markdown",
   "id": "f0ed31cb-0a3c-4eb2-b85e-6ed6b2eb6e58",
   "metadata": {},
   "source": [
    "Task 4. Play a game of $10000$ rolls with $5$ fair dice.\n",
    "\n",
    "- Game class properly instantiated (1). \n",
    "- Play method called properly (1)."
   ]
  },
  {
   "cell_type": "code",
   "execution_count": null,
   "id": "e92395a4-9ed8-4cb0-8c85-38768a784ffc",
   "metadata": {},
   "outputs": [],
   "source": []
  },
  {
   "cell_type": "markdown",
   "id": "7814b402-46a4-40e5-8141-20e05c3e646b",
   "metadata": {},
   "source": [
    "Task 5. Play another game of $10000$ rolls, this time with $2$ unfair dice, one as defined in steps #2 and #3 respectively, and $3$ fair dice.\n",
    "\n",
    "- Game class properly instantiated (1). \n",
    "- Play method called properly (1)."
   ]
  },
  {
   "cell_type": "code",
   "execution_count": null,
   "id": "7cd58fba-b2a5-4d5d-bc6d-2a7a68d18c4f",
   "metadata": {},
   "outputs": [],
   "source": []
  },
  {
   "cell_type": "markdown",
   "id": "7b6cd372-2bb8-4df8-ade1-8f48bc300955",
   "metadata": {},
   "source": [
    "Task 6. For each game, use an Analyzer object to determine the relative frequency of jackpots and show your results, comparing the two relative frequencies, in a simple bar chart.\n",
    "\n",
    "- Jackpot methods called (1).\n",
    "- Graph produced (1)."
   ]
  },
  {
   "cell_type": "code",
   "execution_count": null,
   "id": "bbdcf695-8937-406e-9b53-aa0b9ee3c59a",
   "metadata": {},
   "outputs": [],
   "source": []
  },
  {
   "cell_type": "markdown",
   "id": "9f04e9be-8fcf-4ea4-a391-6614608285f8",
   "metadata": {},
   "source": [
    "## Scenario 3: Letters of the Alphabet (7)\n",
    "\n",
    "Task 1. Create a \"die\" of letters from $A$ to $Z$ with weights based on their frequency of usage as found in the data file `english_letters.txt`. Use the frequencies (i.e. raw counts) as weights.\n",
    "\n",
    "- Die correctly instantiated with source file data (1).\n",
    "- Weights properly applied using weight setting method (1)."
   ]
  },
  {
   "cell_type": "code",
   "execution_count": null,
   "id": "b0ceb771-3cdf-4d8f-8c2c-020806bbb909",
   "metadata": {},
   "outputs": [],
   "source": []
  },
  {
   "cell_type": "markdown",
   "id": "88e2e14a-6223-470a-a2c8-bca1120d7a5b",
   "metadata": {},
   "source": [
    "Task 2. Play a game involving $4$ of these dice with $1000$ rolls.\n",
    "\n",
    "- Game play method properly called (1)."
   ]
  },
  {
   "cell_type": "code",
   "execution_count": null,
   "id": "2ae087cc-936d-4f1e-bddb-a7c179d139e0",
   "metadata": {},
   "outputs": [],
   "source": []
  },
  {
   "cell_type": "markdown",
   "id": "3b9ff800-bf1f-4f66-9d7f-ff57a648e9f0",
   "metadata": {},
   "source": [
    "Task 3. Determine how many permutations in your results are actual English words, based on the vocabulary found in `scrabble_words.txt`.\n",
    "\n",
    "- Use permutation method (1).\n",
    "- Get count as difference between permutations and vocabulary (1)."
   ]
  },
  {
   "cell_type": "code",
   "execution_count": null,
   "id": "ed1c7fa0-cfa3-4cf4-9fd0-9f84b86b0f64",
   "metadata": {},
   "outputs": [],
   "source": []
  },
  {
   "cell_type": "markdown",
   "id": "fcf068cf-381a-4b3e-ac3a-0510eb4dbdb0",
   "metadata": {},
   "source": [
    "Task 4. Repeat steps #2 and #3, this time with $5$ dice. How many actual words does this produce? Which produces more?\n",
    "\n",
    "- Successfully repreats steps (1).\n",
    "- Identifies parameter with most found words (1)."
   ]
  }
 ],
 "metadata": {
  "kernelspec": {
   "display_name": "Python 3",
   "language": "python",
   "name": "python3"
  },
  "language_info": {
   "codemirror_mode": {
    "name": "ipython",
    "version": 3
   },
   "file_extension": ".py",
   "mimetype": "text/x-python",
   "name": "python",
   "nbconvert_exporter": "python",
   "pygments_lexer": "ipython3",
   "version": "3.9.18"
  },
  "toc-autonumbering": true,
  "widgets": {
   "application/vnd.jupyter.widget-state+json": {
    "state": {},
    "version_major": 2,
    "version_minor": 0
   }
  }
 },
 "nbformat": 4,
 "nbformat_minor": 5
}
